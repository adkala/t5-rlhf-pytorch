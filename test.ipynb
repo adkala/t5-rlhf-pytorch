{
 "cells": [
  {
   "cell_type": "code",
   "execution_count": 11,
   "id": "37ae815b-a439-43af-80c9-ad0cc3c8da95",
   "metadata": {},
   "outputs": [
    {
     "name": "stdout",
     "output_type": "stream",
     "text": [
      "The autoreload extension is already loaded. To reload it, use:\n",
      "  %reload_ext autoreload\n"
     ]
    }
   ],
   "source": [
    "%load_ext autoreload\n",
    "%autoreload 2"
   ]
  },
  {
   "cell_type": "code",
   "execution_count": 38,
   "id": "accc0a63-42c6-40b6-833f-71c29ee96734",
   "metadata": {},
   "outputs": [
    {
     "name": "stdout",
     "output_type": "stream",
     "text": [
      "Parsed 35311 rows from data/pricerunner/pricerunner_aggregate.csv\n"
     ]
    }
   ],
   "source": [
    "from data.pricerunner import pricerunner_parser\n",
    "from dataset import TreeSet\n",
    "from feedback import GPTFeedback\n",
    "\n",
    "OPENAI_API_KEY = None\n",
    "GENERATE_DESCRIPTIONS = False\n",
    "\n",
    "treeset = TreeSet([\n",
    "    pricerunner_parser.getCategoryBrandProductTree(\n",
    "        pricerunner_parser.cleanRows(\n",
    "            pricerunner_parser.getRowsFromCSV('data/pricerunner/pricerunner_aggregate.csv')))], \n",
    "    OPENAI_API_KEY if GENERATE_DESCRIPTIONS else None)\n",
    "gpt_feedback = GPTFeedback(OPENAI_API_KEY)"
   ]
  },
  {
   "cell_type": "code",
   "execution_count": 39,
   "id": "7e05c701-437d-4c1c-91df-8eb24669c705",
   "metadata": {},
   "outputs": [],
   "source": [
    "x, y = treeset[0]"
   ]
  },
  {
   "cell_type": "code",
   "execution_count": 40,
   "id": "8e19ba6d-49af-4a8e-894b-883666c205a9",
   "metadata": {},
   "outputs": [],
   "source": [
    "category_tree, products = x\n",
    "product_categories = y"
   ]
  },
  {
   "cell_type": "code",
   "execution_count": 42,
   "id": "d8eb3559-20b8-4667-803f-df71f58f583b",
   "metadata": {},
   "outputs": [],
   "source": [
    "import dataset"
   ]
  },
  {
   "cell_type": "code",
   "execution_count": 43,
   "id": "33dcb763-e156-4212-bc57-f3fc0912cc39",
   "metadata": {},
   "outputs": [],
   "source": [
    "dtsw = dataset.DumpedTreeSetWrapper(treeset)\n",
    "dmpd_x, dmpd_y = dtsw[0]"
   ]
  },
  {
   "cell_type": "code",
   "execution_count": 108,
   "id": "01cb9d42-e265-4f08-a67f-e0b6ea161ac4",
   "metadata": {},
   "outputs": [],
   "source": [
    "from models import SmallT5\n",
    "smallt5 = SmallT5()"
   ]
  },
  {
   "cell_type": "code",
   "execution_count": 109,
   "id": "aa14f4b7-fbef-4cab-b8d1-199ffb54ca0b",
   "metadata": {},
   "outputs": [],
   "source": [
    "import torch\n",
    "dataloader = torch.utils.data.DataLoader(dtsw, batch_size=4, shuffle=True, num_workers=True)"
   ]
  },
  {
   "cell_type": "code",
   "execution_count": 110,
   "id": "356859cb-687b-4249-a883-111e59b97275",
   "metadata": {},
   "outputs": [],
   "source": [
    "import trainer\n",
    "\n",
    "import importlib\n",
    "importlib.reload(trainer)\n",
    "\n",
    "base_trainer = trainer.BaseTrainer(smallt5, torch.optim.AdamW(smallt5.parameters(), lr=3e-4), dataloader)"
   ]
  },
  {
   "cell_type": "code",
   "execution_count": null,
   "id": "5caee705-57e9-4ff0-b326-2dd5f2bec8eb",
   "metadata": {},
   "outputs": [],
   "source": [
    "base_trainer.train(10)"
   ]
  },
  {
   "cell_type": "code",
   "execution_count": 131,
   "id": "2d207b04-5e8e-419e-919c-efd38cbf7407",
   "metadata": {},
   "outputs": [
    {
     "name": "stdout",
     "output_type": "stream",
     "text": [
      "0.9000,\n",
      "label: [{\"product_name\": \"Amazon BMOG25LIXH Stainless Steel\", \"category\": \"Microwaves/Amazon\"}, {\"product_name\": \"Intel Pentium E5800 3.2GHz Socket 775 800MHz bus Tray\", \"category\": \"CPUs/Intel\"}, {\"product_name\": \"Intel Xeon E5-1650 v3 3.5GHz Tray\", \"category\": \"CPUs/Intel\"}, {\"product_name\": \"Cisco Intel E5504 2.0GHz Tray\", \"category\": \"CPUs/Cisco\"}, {\"product_name\": \"Lenovo Intel Xeon E7540 2GHz Socket 1567 3200MHz bus Upgrade Tray\", \"category\": \"CPUs/Lenovo\"}, {\"product_name\": \"Lenovo Intel Xeon E5606 2.13GHz Socket 1366 1066MHz bus Upgrade Tray\", \"category\": \"CPUs/Lenovo\"}, {\"product_name\": \"Getnord Onyx Dual SIM\", \"category\": \"Mobile Phones/Getnord\"}, {\"product_name\": \"Yota YotaPhone 2\", \"category\": \"Mobile Phones/Yota\"}, {\"product_name\": \"Sencor SLE 2465DTC\", \"category\": \"TVs/Sencor\"}, {\"product_name\": \"Leica CL + 18mm\", \"category\": \"Digital Cameras/Leica\"}]\n",
      "prediction: [{ \"product_name\": \"Amazon BMOG25LIXH Stainless Steel\", \"category\": \"Microwaves/Amazon\"}, { \"product_name\": \"Intel Pentium E5800 3.2GHz Socket 775 800MHz bus Tray\", \"category\": \"CPUs/Intel\"}, { \"product_name\": \"Intel Xeon E5-1650 v3 3.5GHz Tray\", \"category\": \"CPUs/Intel\"}, { \"product_name\": \"Cisco Intel E5504 2.0GHz Tray\", \"category\": \"CPUs/Cisco\"}, { \"product_name\": \"Lenovo Intel Xeon E7540 2GHz Socket 1567 3200MHz bus Upgrade Tray\", \"category\": \"CPUs/Lenovo\"}, { \"product_name\": \"Lenovo Intel Xeon E5606 2.13GHz Socket 1366 1066MHz bus Upgrade Tray\", \"category\": \"CPUs/Lenovo\"}, { \"product_name\": \"Yota YotaPhone 2\", \"category\": \"Mobile Phones/Yota\"}, { \"product_name\": \"Yota YotaPhone 2\", \"category\": \"Mobile Phones/Yota\"}, { \"product_name\": \"Sencor SLE 2465DTC\", \"category\": \"TVs/Sencor\"}, { \"product_name\": \"Leica CL + 18mm\", \"category\": \"Digital Cameras/Leica\"} ]\n"
     ]
    }
   ],
   "source": [
    "prediction = base_trainer.test(1)"
   ]
  },
  {
   "cell_type": "code",
   "execution_count": 130,
   "id": "19a6a76a-d787-482a-83b6-3299c2118163",
   "metadata": {},
   "outputs": [
    {
     "name": "stdout",
     "output_type": "stream",
     "text": [
      "0.9800000000000001\n"
     ]
    }
   ],
   "source": [
    "print(prediction)"
   ]
  },
  {
   "cell_type": "code",
   "execution_count": 121,
   "id": "74bedd15-c170-434c-a9fa-e5646ef05995",
   "metadata": {},
   "outputs": [
    {
     "data": {
      "text/plain": [
       "[{'product_name': 'Telefunken B39F446A', 'category': 'TVs/Telefunken'},\n",
       " {'product_name': 'Denver LED-5569T2CS', 'category': 'TVs/Denver'},\n",
       " {'product_name': 'Adelberg BM20LNB Black', 'category': 'Microwaves/Adelberg'},\n",
       " {'product_name': 'Indesit CAA 55 White', 'category': 'Mobile Phones/Indesit'},\n",
       " {'product_name': 'Crosscall Trekker-M1 Dual SIM',\n",
       "  'category': 'Mobile Phones/Crosscall'},\n",
       " {'product_name': 'Kru00fcger & Matz Move 7 Dual SIM',\n",
       "  'category': 'Digital Cameras/Kru00fcger'},\n",
       " {'product_name': 'General Electric PJ1',\n",
       "  'category': 'Digital Cameras/General Electric'},\n",
       " {'product_name': 'General Electric PJ1',\n",
       "  'category': 'Digital Cameras/General Electric'},\n",
       " {'product_name': 'IBM Intel Dual-Core Xeon 5140 2.33GHz Socket 771 1333MHz bus Tray',\n",
       "  'category': 'CPUs/IBM'},\n",
       " {'product_name': 'Kenwood KTF60X15 Stainless Steel',\n",
       "  'category': 'Freezers/Kenwood'},\n",
       " {'product_name': 'De Dietrich DLZ 1585I', 'category': 'Washing Machines/De'}]"
      ]
     },
     "execution_count": 121,
     "metadata": {},
     "output_type": "execute_result"
    }
   ],
   "source": [
    "import json\n",
    "json.loads(prediction)"
   ]
  },
  {
   "cell_type": "code",
   "execution_count": 132,
   "id": "89ddcd35-3b77-41c1-87ad-41448aa68f92",
   "metadata": {},
   "outputs": [],
   "source": [
    "torch.save(smallt5, 'smallt5_basic.pt')"
   ]
  },
  {
   "cell_type": "code",
   "execution_count": 133,
   "id": "1d8af49b-3259-4ce8-bea0-382361df0837",
   "metadata": {},
   "outputs": [
    {
     "name": "stdout",
     "output_type": "stream",
     "text": [
      "0.9\n"
     ]
    }
   ],
   "source": [
    "print(prediction)"
   ]
  },
  {
   "cell_type": "code",
   "execution_count": 135,
   "id": "46eca1a9-7512-4d89-965e-815b3534736b",
   "metadata": {},
   "outputs": [
    {
     "name": "stdout",
     "output_type": "stream",
     "text": [
      "acc: 1.0000,\n",
      "\n",
      "label: [{\"product_name\": \"Essentials C61CF13 White\", \"category\": \"Freezers/Essentials\"}, {\"product_name\": \"Russell Hobbs RHTTFZ1 White\", \"category\": \"Freezers/Russell\"}, {\"product_name\": \"HP Intel Xeon E7530 1.86GHz Socket 1567 Upgrade Tray\", \"category\": \"CPUs/HP\"}, {\"product_name\": \"Cisco Intel Xeon E7520 1.86GHz Socket 1567 Upgrade Tray\", \"category\": \"CPUs/Cisco\"}, {\"product_name\": \"Fujitsu Intel Xeon L5530 2.26GHz Socket 1366 3000MHz bus Upgrade Tray\", \"category\": \"CPUs/Fujitsu\"}, {\"product_name\": \"Leisure PDU34390\", \"category\": \"Dishwashers/Leisure\"}, {\"product_name\": \"Montpellier MAB365K Black\", \"category\": \"Fridge Freezers/Montpellier\"}, {\"product_name\": \"New World IFF50 Integrated\", \"category\": \"Fridge Freezers/New\"}, {\"product_name\": \"Casio Exilim EX-N1\", \"category\": \"Digital Cameras/Casio\"}, {\"product_name\": \"Montpellier MWDI7555\", \"category\": \"Washing Machines/Montpellier\"}]\n",
      "\n",
      "prediction: [{ \"product_name\": \"Essentials C61CF13 White\", \"category\": \"Freezers/Essentials\"}, { \"product_name\": \"Russell Hobbs RHTTFZ1 White\", \"category\": \"Freezers/Russell\"}, { \"product_name\": \"HP Intel Xeon E7530 1.86GHz Socket 1567 Upgrade Tray\", \"category\": \"CPUs/HP\"}, { \"product_name\": \"Cisco Intel Xeon E7520 1.86GHz Socket 1567 Upgrade Tray\", \"category\": \"CPUs/Cisco\"}, { \"product_name\": \"Fujitsu Intel Xeon L5530 2.26GHz Socket 1366 3000MHz bus Upgrade Tray\", \"category\": \"CPUs/Fujitsu\"}, { \"product_name\": \"Leisure PDU34390\", \"category\": \"Dishwashers/Leisure\"}, { \"product_name\": \"Montpellier MAB365K Black\", \"category\": \"Fridge Freezers/Montpellier\"}, { \"product_name\": \"New World IFF50 Integrated\", \"category\": \"Fridge Freezers/New\"}, { \"product_name\": \"Casio Exilim EX-N1\", \"category\": \"Digital Cameras/Casio\"}, { \"product_name\": \"Montpellier MWDI7555\", \"category\": \"Washing Machines/Montpellier\"} ]\n"
     ]
    },
    {
     "data": {
      "text/plain": [
       "1.0"
      ]
     },
     "execution_count": 135,
     "metadata": {},
     "output_type": "execute_result"
    }
   ],
   "source": [
    "base_trainer.test(1)"
   ]
  },
  {
   "cell_type": "code",
   "execution_count": null,
   "id": "fa8adedb-8397-490f-8372-1693575f2e1b",
   "metadata": {},
   "outputs": [],
   "source": [
    "bert = "
   ]
  }
 ],
 "metadata": {
  "kernelspec": {
   "display_name": "Python 3 (ipykernel)",
   "language": "python",
   "name": "python3"
  },
  "language_info": {
   "codemirror_mode": {
    "name": "ipython",
    "version": 3
   },
   "file_extension": ".py",
   "mimetype": "text/x-python",
   "name": "python",
   "nbconvert_exporter": "python",
   "pygments_lexer": "ipython3",
   "version": "3.11.4"
  }
 },
 "nbformat": 4,
 "nbformat_minor": 5
}
