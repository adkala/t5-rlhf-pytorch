{
 "cells": [
  {
   "cell_type": "code",
   "execution_count": 4,
   "id": "2290e645-0284-4eaf-86a3-4d65f6ce84d0",
   "metadata": {},
   "outputs": [],
   "source": [
    "%load_ext autoreload\n",
    "%autoreload 2"
   ]
  },
  {
   "cell_type": "code",
   "execution_count": 5,
   "id": "9090cc78-e2c4-466f-bfb5-61f4b96c1bd2",
   "metadata": {},
   "outputs": [
    {
     "name": "stdout",
     "output_type": "stream",
     "text": [
      "Parsed 35311 rows from data/pricerunner/pricerunner_aggregate.csv\n"
     ]
    }
   ],
   "source": [
    "from data.pricerunner import pricerunner_parser\n",
    "from dataset import TreeSet, DumpedTreeSetWrapper\n",
    "from feedback import GPTFeedback\n",
    "\n",
    "OPENAI_API_KEY = None\n",
    "GENERATE_DESCRIPTIONS = False\n",
    "\n",
    "treeset = TreeSet([\n",
    "    pricerunner_parser.getCategoryBrandProductTree(\n",
    "        pricerunner_parser.cleanRows(\n",
    "            pricerunner_parser.getRowsFromCSV('data/pricerunner/pricerunner_aggregate.csv')))], \n",
    "    OPENAI_API_KEY if GENERATE_DESCRIPTIONS else None)\n",
    "dtsw = DumpedTreeSetWrapper(treeset)\n",
    "gpt_feedback = GPTFeedback(OPENAI_API_KEY)"
   ]
  },
  {
   "cell_type": "code",
   "execution_count": 27,
   "id": "0b245856-680d-480a-8fd4-62a884e3c87f",
   "metadata": {},
   "outputs": [],
   "source": [
    "sample = treeset[0]\n",
    "print(sample)"
   ]
  },
  {
   "cell_type": "code",
   "execution_count": 29,
   "id": "54891bce-5c0f-42d9-b85a-66bfad280e05",
   "metadata": {},
   "outputs": [
    {
     "name": "stdout",
     "output_type": "stream",
     "text": [
      "[{'product_name': 'New World NWDW60MK2 Integrated', 'category': 'Dishwashers/New'}, {'product_name': 'Miele G 6895 SCVi XXL K2O Stainless Steel', 'category': 'Dishwashers/Miele'}, {'product_name': 'YI M1 + 12-40mm + 42.5mm', 'category': 'Digital Cameras/YI'}, {'product_name': 'Hoover HCN6202XK Stainless Steel', 'category': 'Fridge Freezers/Hoover'}, {'product_name': 'Saba RF442BRPX6 Stainless Steel', 'category': 'Fridge Freezers/Saba'}, {'product_name': 'Essentials C50BS16', 'category': 'Fridge Freezers/Essentials'}, {'product_name': 'Land Rover Explore', 'category': 'Mobile Phones/Land'}, {'product_name': 'Lenovo Intel Xeon E5606 2.13GHz Socket 1366 1066MHz bus Upgrade Tray', 'category': 'CPUs/Lenovo'}, {'product_name': 'Bosch WUQ284F0', 'category': 'Washing Machines/Bosch'}, {'product_name': 'Swan SR11040CN Cream', 'category': 'Freezers/Swan'}]\n"
     ]
    }
   ],
   "source": [
    "sample_feedback = gpt_feedback.getCategories(sample[0], sample[1])\n",
    "print(sample_feedback)"
   ]
  },
  {
   "cell_type": "code",
   "execution_count": 43,
   "id": "ac4dbf16-5745-446c-b62d-71b198aa59fc",
   "metadata": {},
   "outputs": [],
   "source": [
    "from models import SmallT5\n",
    "\n",
    "import torch\n",
    "import trainer\n",
    "\n",
    "model = SmallT5()\n",
    "dataloader = torch.utils.data.DataLoader(dtsw, batch_size=2, shuffle=True, num_workers=True)\n",
    "base_trainer = trainer.BaseTrainer(model, torch.optim.AdamW(model.parameters(), lr=3e-4), dataloader)\n",
    "\n",
    "device = torch.device('cuda:0' if torch.cuda.is_available() else ('mps' if torch.backends.mps.is_available() else 'cpu'))"
   ]
  },
  {
   "cell_type": "code",
   "execution_count": null,
   "id": "2a244f18-7160-40ef-b692-42922d16fbcf",
   "metadata": {},
   "outputs": [],
   "source": [
    "#base_trainer.train(20)\n",
    "model.load_state_dict(torch.load('smallt5_basic.pt').state_dict())"
   ]
  },
  {
   "cell_type": "code",
   "execution_count": 23,
   "id": "97cbeada-57be-4030-b3c3-a348ab65d02d",
   "metadata": {},
   "outputs": [
    {
     "data": {
      "text/plain": [
       "'<pad> [{ \"product_name\": \"New World NWDW60MK'"
      ]
     },
     "execution_count": 23,
     "metadata": {},
     "output_type": "execute_result"
    }
   ],
   "source": [
    "model.tokenizer.decode(out_tokens[0])"
   ]
  },
  {
   "cell_type": "code",
   "execution_count": null,
   "id": "367340c5-38cf-4ec2-a641-f57f107dc2fa",
   "metadata": {},
   "outputs": [],
   "source": [
    "import copy\n",
    "\n",
    "from trainer import PPOTrainer, ClipObjectiveLoss\n",
    "\n",
    "ref_model = copy.deepcopy(model) \n",
    "optimizer = torch.optim.AdamW(model.parameters(), lr=3e-4)\n",
    "objective = ClipObjectiveLoss()\n",
    "\n",
    "ppo_trainer = PPOTrainer(model, ref_model, optimizer, dataloader, objective)"
   ]
  },
  {
   "cell_type": "code",
   "execution_count": null,
   "id": "98c7ae0a-9818-40a5-9883-6220debb37ff",
   "metadata": {},
   "outputs": [],
   "source": [
    "ppo_trainer.train(max_length=16)"
   ]
  },
  {
   "cell_type": "code",
   "execution_count": 113,
   "id": "c40d6312-2e40-407c-9084-3a4b0572c537",
   "metadata": {},
   "outputs": [
    {
     "data": {
      "text/plain": [
       "tensor(True)"
      ]
     },
     "execution_count": 113,
     "metadata": {},
     "output_type": "execute_result"
    }
   ],
   "source": [
    "token = torch.Tensor([0, 0])\n",
    "torch.all(token == torch.zeros(*token.shape))"
   ]
  },
  {
   "cell_type": "code",
   "execution_count": null,
   "id": "2d86a4c3-cc93-4124-ad24-bd70a95927ad",
   "metadata": {},
   "outputs": [],
   "source": []
  }
 ],
 "metadata": {
  "kernelspec": {
   "display_name": "Python 3 (ipykernel)",
   "language": "python",
   "name": "python3"
  },
  "language_info": {
   "codemirror_mode": {
    "name": "ipython",
    "version": 3
   },
   "file_extension": ".py",
   "mimetype": "text/x-python",
   "name": "python",
   "nbconvert_exporter": "python",
   "pygments_lexer": "ipython3",
   "version": "3.11.4"
  }
 },
 "nbformat": 4,
 "nbformat_minor": 5
}
